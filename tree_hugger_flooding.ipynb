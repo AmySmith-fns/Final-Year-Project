{
 "cells": [
  {
   "cell_type": "markdown",
   "metadata": {},
   "source": [
    "Read in data and label it normal or anomalous"
   ]
  },
  {
   "cell_type": "code",
   "execution_count": 3,
   "metadata": {
    "scrolled": true
   },
   "outputs": [
    {
     "name": "stdout",
     "output_type": "stream",
     "text": [
      "Index([' id', ' Time', ' Is_CH', ' who CH', ' Dist_To_CH', ' ADV_S', ' ADV_R',\n",
      "       ' JOIN_S', ' JOIN_R', ' SCH_S', ' SCH_R', 'Rank', ' DATA_S', ' DATA_R',\n",
      "       ' Data_Sent_To_BS', ' dist_CH_To_BS', ' send_code ', 'Consumed Energy',\n",
      "       'Attack type'],\n",
      "      dtype='object')\n",
      "(371349, 12)\n",
      "(222809, 12)\n",
      "(148540, 12)\n",
      "(222809, 1)\n",
      "(148540, 1)\n"
     ]
    }
   ],
   "source": [
    "from sklearn.tree import DecisionTreeClassifier # Import Decision Tree Classifier\n",
    "from sklearn.model_selection import train_test_split # Import train_test_split function\n",
    "from sklearn import metrics #Import scikit-learn metrics module for accuracy calculation\n",
    "import pandas as pd\n",
    "from pathlib import Path\n",
    "import numpy as np\n",
    "import csv\n",
    "\n",
    "dir_path= Path('..', 'data')\n",
    "data_path= Path(dir_path,'edt_DS.csv' )\n",
    "data_file= pd.read_csv(data_path)\n",
    "print(data_file.columns)\n",
    "data_file=data_file.drop(columns=[' id', ' who CH' ,' Time', ' Dist_To_CH', 'Rank', ' dist_CH_To_BS', ' send_code '])\n",
    "\n",
    "x= data_file.values\n",
    "print(x.shape)\n",
    "\n",
    "shp= int(x.shape[0])\n",
    "\n",
    "y=np.empty((shp, 1), dtype=str)\n",
    "count=0\n",
    "for a in x:\n",
    "    if a[11] =='Normal':\n",
    "        y[count]='N'\n",
    "    else:\n",
    "        y[count]='A'\n",
    "    count=count+1\n",
    "    \n",
    "#print(x.shape )\n",
    "#print (y.shape)\n",
    "xtrain, xtest, ytrain, ytest = train_test_split(data_file.values,y,train_size=0.6, stratify= data_file['Attack type'])\n",
    "        \n",
    "print(xtrain.shape)\n",
    "print(xtest.shape)\n",
    "print(ytrain.shape)\n",
    "print(ytest.shape)\n",
    "#print(ytrain)\n",
    "myfile= open('traintest.csv', 'w')\n",
    "#print(xtrain)\n",
    "with myfile:\n",
    "    writer= csv.writer(myfile)\n",
    "    writer.writerow(data_file.columns)\n",
    "    writer.writerows(xtrain)\n",
    "    writer.writerows(xtest)\n",
    "\n",
    "ys= open('labels.csv', 'w')\n",
    "with ys:\n",
    "    writer=csv.writer(ys)\n",
    "    writer.writerows(ytrain)\n",
    "    writer.writerows(ytest)"
   ]
  },
  {
   "cell_type": "markdown",
   "metadata": {},
   "source": [
    "read in anomalous/normal data"
   ]
  },
  {
   "cell_type": "code",
   "execution_count": 4,
   "metadata": {},
   "outputs": [
    {
     "name": "stdout",
     "output_type": "stream",
     "text": [
      "Index([' Is_CH', ' ADV_S', ' ADV_R', ' JOIN_S', ' JOIN_R', ' SCH_S', ' SCH_R',\n",
      "       ' DATA_S', ' DATA_R', ' Data_Sent_To_BS', 'Consumed Energy'],\n",
      "      dtype='object')\n"
     ]
    }
   ],
   "source": [
    "from sklearn.tree import DecisionTreeClassifier # Import Decision Tree Classifier\n",
    "from sklearn.model_selection import train_test_split # Import train_test_split function\n",
    "from sklearn import metrics #Import scikit-learn metrics module for accuracy calculation\n",
    "import pandas as pd\n",
    "from pathlib import Path\n",
    "import numpy as np\n",
    "\n",
    "data_path= Path('traintest.csv' )\n",
    "data_file= pd.read_csv(data_path)\n",
    "data_file=data_file.drop(columns=['Attack type'])\n",
    "\n",
    "print(data_file.columns)\n",
    "allx= data_file.values\n",
    "#print(allx.shape)\n",
    "xtrain= allx[0:222809]\n",
    "xtest= allx[222809: 222809+148540]\n",
    "\n",
    "# print(xtrain.shape)\n",
    "# print(xtest.shape)\n",
    "\n"
   ]
  },
  {
   "cell_type": "markdown",
   "metadata": {},
   "source": [
    "build classifier"
   ]
  },
  {
   "cell_type": "code",
   "execution_count": 5,
   "metadata": {},
   "outputs": [],
   "source": [
    "cls=DecisionTreeClassifier()\n",
    "\n",
    "cls=cls.fit(xtrain,ytrain)\n",
    "\n",
    "y_pred=cls.predict(xtest)"
   ]
  },
  {
   "cell_type": "markdown",
   "metadata": {},
   "source": [
    "test trees"
   ]
  },
  {
   "cell_type": "code",
   "execution_count": 6,
   "metadata": {},
   "outputs": [
    {
     "name": "stdout",
     "output_type": "stream",
     "text": [
      "Accuracy: 0.9959202908307526\n",
      "              precision    recall  f1-score   support\n",
      "\n",
      "           A       0.97      0.98      0.98     12513\n",
      "           N       1.00      1.00      1.00    136027\n",
      "\n",
      "    accuracy                           1.00    148540\n",
      "   macro avg       0.99      0.99      0.99    148540\n",
      "weighted avg       1.00      1.00      1.00    148540\n",
      "\n",
      "[ 12229    284    322 135705]\n"
     ]
    }
   ],
   "source": [
    "print(\"Accuracy:\", metrics.accuracy_score(ytest, y_pred))\n",
    "\n",
    "\n",
    "print(metrics.classification_report(ytest, y_pred))\n",
    "\n",
    "print(metrics.confusion_matrix(ytest, y_pred).ravel())\n",
    "#tn, fp, fn, tp      "
   ]
  },
  {
   "cell_type": "markdown",
   "metadata": {},
   "source": [
    "add flooding to test dataset"
   ]
  },
  {
   "cell_type": "code",
   "execution_count": 7,
   "metadata": {},
   "outputs": [
    {
     "name": "stdout",
     "output_type": "stream",
     "text": [
      "Index([' id', ' Time', ' Is_CH', ' who CH', ' Dist_To_CH', ' ADV_S', ' ADV_R',\n",
      "       ' JOIN_S', ' JOIN_R', ' SCH_S', ' SCH_R', 'Rank', ' DATA_S', ' DATA_R',\n",
      "       ' Data_Sent_To_BS', ' dist_CH_To_BS', ' send_code ', 'Consumed Energy',\n",
      "       'Attack type'],\n",
      "      dtype='object')\n"
     ]
    }
   ],
   "source": [
    "dir_path= Path('..', 'data')\n",
    "data_path= Path(dir_path,'flooding.csv' )\n",
    "data_file= pd.read_csv(data_path)\n",
    "print(data_file.columns)\n",
    "data_file=data_file.drop(columns=[' id', ' who CH' ,' Time', ' Dist_To_CH', 'Rank', ' dist_CH_To_BS', ' send_code ','Attack type' ])\n",
    "data_dump=data_file.values\n",
    "\n",
    "\n",
    "\n",
    "x_ftest= np.concatenate((xtest, data_dump), 0)\n",
    "yflood=np.empty((data_dump.shape[0], 1), dtype=str)\n",
    "count=0\n",
    "for a in yflood:\n",
    "    yflood[count]='A'\n",
    "    count=count+1\n",
    "    \n",
    "y_ftest= np.concatenate((ytest, yflood),0)\n"
   ]
  },
  {
   "cell_type": "markdown",
   "metadata": {},
   "source": [
    "save new dataset\n"
   ]
  },
  {
   "cell_type": "code",
   "execution_count": 8,
   "metadata": {},
   "outputs": [],
   "source": [
    "myfile= open('test_wt_flooding.csv', 'w')\n",
    "#print(xtrain)\n",
    "with myfile:\n",
    "    writer= csv.writer(myfile)\n",
    "    writer.writerow(data_file.columns)\n",
    "    writer.writerows(x_ftest)\n",
    "\n",
    "ys= open('labels_wt_flooding.csv', 'w')\n",
    "with ys:\n",
    "    writer=csv.writer(ys)\n",
    "    writer.writerows(ytrain)\n",
    "    writer.writerows(y_ftest)"
   ]
  },
  {
   "cell_type": "markdown",
   "metadata": {},
   "source": [
    "test classifier on new test data"
   ]
  },
  {
   "cell_type": "code",
   "execution_count": 9,
   "metadata": {},
   "outputs": [
    {
     "name": "stdout",
     "output_type": "stream",
     "text": [
      "Accuracy: 0.9745212443695177\n"
     ]
    }
   ],
   "source": [
    "y_floodpred=cls.predict(x_ftest)\n",
    "\n",
    "print(\"Accuracy:\", metrics.accuracy_score(y_ftest, y_floodpred))\n"
   ]
  },
  {
   "cell_type": "code",
   "execution_count": 10,
   "metadata": {},
   "outputs": [
    {
     "name": "stdout",
     "output_type": "stream",
     "text": [
      "Accuracy: 0.014794685990338164\n",
      "              precision    recall  f1-score   support\n",
      "\n",
      "           A       1.00      0.01      0.03      3312\n",
      "           N       0.00      0.00      0.00         0\n",
      "\n",
      "    accuracy                           0.01      3312\n",
      "   macro avg       0.50      0.01      0.01      3312\n",
      "weighted avg       1.00      0.01      0.03      3312\n",
      "\n",
      "[  49 3263    0    0]\n"
     ]
    },
    {
     "name": "stderr",
     "output_type": "stream",
     "text": [
      "C:\\Users\\Amy\\miniconda3\\lib\\site-packages\\sklearn\\metrics\\_classification.py:1221: UndefinedMetricWarning: Recall and F-score are ill-defined and being set to 0.0 in labels with no true samples. Use `zero_division` parameter to control this behavior.\n",
      "  _warn_prf(average, modifier, msg_start, len(result))\n"
     ]
    }
   ],
   "source": [
    "y_flood_only=cls.predict(data_dump)\n",
    "\n",
    "print(\"Accuracy:\", metrics.accuracy_score(yflood, y_flood_only))\n",
    "print(metrics.classification_report(yflood, y_flood_only))\n",
    "\n",
    "print(metrics.confusion_matrix(yflood, y_flood_only).ravel())\n",
    "#tn, fp, fn, tp "
   ]
  },
  {
   "cell_type": "markdown",
   "metadata": {},
   "source": [
    "examine the tree"
   ]
  },
  {
   "cell_type": "code",
   "execution_count": 11,
   "metadata": {},
   "outputs": [],
   "source": [
    "from sklearn.tree import plot_tree\n",
    "import matplotlib.pyplot as plt\n",
    "\n",
    "# plt.figure()\n",
    "# plot_tree(cls, filled=True)\n",
    "# plt.show()\n",
    "# plt.savefig('first_tree.png')"
   ]
  },
  {
   "cell_type": "markdown",
   "metadata": {},
   "source": [
    "that is MASSIVE (probably why it can't pick up on unseen hacks)\n",
    "gonna prune"
   ]
  },
  {
   "cell_type": "code",
   "execution_count": 12,
   "metadata": {},
   "outputs": [
    {
     "data": {
      "image/png": "[encoded data removed]",
      "text/plain": [
       "<Figure size 432x288 with 1 Axes>"
      ]
     },
     "metadata": {
      "needs_background": "light"
     },
     "output_type": "display_data"
    }
   ],
   "source": [
    "clf = DecisionTreeClassifier(random_state=0)\n",
    "path = clf.cost_complexity_pruning_path(xtrain, ytrain)\n",
    "ccp_alphas, impurities = path.ccp_alphas, path.impurities\n",
    "\n",
    "\n",
    "clfs = []\n",
    "for ccp_alpha in ccp_alphas:\n",
    "    clf = DecisionTreeClassifier(random_state=0, ccp_alpha=ccp_alpha)\n",
    "    clf.fit(xtrain, ytrain)\n",
    "    clfs.append(clf)\n",
    "    \n",
    "clfs = clfs[:-1]\n",
    "ccp_alphas = ccp_alphas[:-1]\n",
    "\n",
    "\n",
    "train_scores = [clf.score(xtrain, ytrain) for clf in clfs]\n",
    "test_scores = [clf.score(xtest, ytest) for clf in clfs]\n",
    "\n",
    "fig, ax = plt.subplots()\n",
    "ax.set_xlabel(\"alpha\")\n",
    "ax.set_ylabel(\"accuracy\")\n",
    "ax.set_title(\"Accuracy vs alpha for training and testing sets\")\n",
    "ax.plot(ccp_alphas, train_scores, marker='o', label=\"train\",\n",
    "        drawstyle=\"steps-post\")\n",
    "ax.plot(ccp_alphas, test_scores, marker='o', label=\"test\",\n",
    "        drawstyle=\"steps-post\")\n",
    "ax.legend()\n",
    "plt.show()\n",
    "\n",
    "\n"
   ]
  },
  {
   "cell_type": "code",
   "execution_count": 13,
   "metadata": {},
   "outputs": [
    {
     "data": {
      "image/png": "[encoded data removed]",
      "text/plain": [
       "<Figure size 432x288 with 1 Axes>"
      ]
     },
     "metadata": {
      "needs_background": "light"
     },
     "output_type": "display_data"
    }
   ],
   "source": [
    "test_scores = [clf.score(data_dump, yflood) for clf in clfs]\n",
    "\n",
    "fig, ax = plt.subplots()\n",
    "ax.set_xlabel(\"alpha\")\n",
    "ax.set_ylabel(\"accuracy\")\n",
    "ax.set_title(\"Accuracy vs alpha for training and testing sets\")\n",
    "ax.plot(ccp_alphas, train_scores, marker='o', label=\"train\",\n",
    "        drawstyle=\"steps-post\")\n",
    "ax.plot(ccp_alphas, test_scores, marker='o', label=\"test\",\n",
    "        drawstyle=\"steps-post\")\n",
    "ax.legend()\n",
    "plt.show()"
   ]
  },
  {
   "cell_type": "code",
   "execution_count": 14,
   "metadata": {},
   "outputs": [
    {
     "data": {
      "image/png": "[encoded data removed]",
      "text/plain": [
       "<Figure size 432x288 with 2 Axes>"
      ]
     },
     "metadata": {
      "needs_background": "light"
     },
     "output_type": "display_data"
    }
   ],
   "source": [
    "node_counts = [clf.tree_.node_count for clf in clfs]\n",
    "depth = [clf.tree_.max_depth for clf in clfs]\n",
    "fig, ax = plt.subplots(2, 1)\n",
    "ax[0].plot(ccp_alphas, node_counts, marker='o', drawstyle=\"steps-post\")\n",
    "ax[0].set_xlabel(\"alpha\")\n",
    "ax[0].set_ylabel(\"number of nodes\")\n",
    "ax[0].set_title(\"Number of nodes vs alpha\")\n",
    "ax[1].plot(ccp_alphas, depth, marker='o', drawstyle=\"steps-post\")\n",
    "ax[1].set_xlabel(\"alpha\")\n",
    "ax[1].set_ylabel(\"depth of tree\")\n",
    "ax[1].set_title(\"Depth vs alpha\")\n",
    "fig.tight_layout()"
   ]
  },
  {
   "cell_type": "code",
   "execution_count": 18,
   "metadata": {},
   "outputs": [
    {
     "name": "stdout",
     "output_type": "stream",
     "text": [
      "Accuracy: 1.0\n",
      "              precision    recall  f1-score   support\n",
      "\n",
      "           A       1.00      1.00      1.00      3312\n",
      "\n",
      "    accuracy                           1.00      3312\n",
      "   macro avg       1.00      1.00      1.00      3312\n",
      "weighted avg       1.00      1.00      1.00      3312\n",
      "\n",
      "[3312]\n"
     ]
    }
   ],
   "source": [
    "y_floodpred=clfs[-1].predict(data_dump)\n",
    "\n",
    "print(\"Accuracy:\", metrics.accuracy_score(yflood, y_floodpred))\n",
    "#print(\"Accuracy:\", metrics.accuracy_score(y_ftest, y_floodpred))\n",
    "print(metrics.classification_report(yflood, y_floodpred))\n",
    "print(metrics.confusion_matrix(yflood, y_floodpred).ravel())\n",
    "#tn, fp, fn, tp "
   ]
  },
  {
   "cell_type": "code",
   "execution_count": 15,
   "metadata": {},
   "outputs": [
    {
     "name": "stdout",
     "output_type": "stream",
     "text": [
      "              precision    recall  f1-score   support\n",
      "\n",
      "           A       0.81      0.99      0.89     15825\n",
      "           N       1.00      0.97      0.99    136027\n",
      "\n",
      "    accuracy                           0.97    151852\n",
      "   macro avg       0.90      0.98      0.94    151852\n",
      "weighted avg       0.98      0.97      0.98    151852\n",
      "\n",
      "[ 15683    142   3690 132337]\n"
     ]
    }
   ],
   "source": [
    "KO= clfs[-1]\n",
    "\n",
    "y_floodpred=KO.predict(x_ftest)\n",
    "\n",
    "#print(\"Accuracy:\", metrics.accuracy_score(y_ftest, y_floodpred))\n",
    "print(metrics.classification_report(y_ftest, y_floodpred))\n",
    "\n",
    "print(metrics.confusion_matrix(y_ftest, y_floodpred).ravel())\n",
    "#tn, fp, fn, tp"
   ]
  },
  {
   "cell_type": "code",
   "execution_count": 18,
   "metadata": {},
   "outputs": [
    {
     "name": "stdout",
     "output_type": "stream",
     "text": [
      "Accuracy: 0.9738252322606705\n",
      "              precision    recall  f1-score   support\n",
      "\n",
      "           A       0.77      0.99      0.86     12513\n",
      "           N       1.00      0.97      0.99    136027\n",
      "\n",
      "    accuracy                           0.97    148540\n",
      "   macro avg       0.88      0.98      0.92    148540\n",
      "weighted avg       0.98      0.97      0.98    148540\n",
      "\n"
     ]
    }
   ],
   "source": [
    "y_pred=KO.predict(xtest)\n",
    "print(\"Accuracy:\", metrics.accuracy_score(ytest, y_pred))\n",
    "print(metrics.classification_report(ytest, y_pred))"
   ]
  },
  {
   "cell_type": "markdown",
   "metadata": {},
   "source": [
    "lets take a look at the tree now"
   ]
  },
  {
   "cell_type": "code",
   "execution_count": 104,
   "metadata": {},
   "outputs": [
    {
     "data": {
      "image/png": "[encoded data removed]",
      "text/plain": [
       "<Figure size 432x288 with 1 Axes>"
      ]
     },
     "metadata": {
      "needs_background": "light"
     },
     "output_type": "display_data"
    }
   ],
   "source": [
    "from sklearn.tree import plot_tree\n",
    "import matplotlib.pyplot as plt\n",
    "\n",
    "plt.figure()\n",
    "plot_tree(KO)\n",
    "plt.show()"
   ]
  },
  {
   "cell_type": "markdown",
   "metadata": {},
   "source": [
    "So KO is pruned and works for unknown hacks at the cost of accuracy on known hacks. (dropped from 0.9954759660697455 to 0.9739531439342938)\n",
    "now we calibrate and boost KO to improve accuracy"
   ]
  },
  {
   "cell_type": "code",
   "execution_count": null,
   "metadata": {},
   "outputs": [],
   "source": []
  }
 ],
 "metadata": {
  "kernelspec": {
   "display_name": "Python 3",
   "language": "python",
   "name": "python3"
  },
  "language_info": {
   "codemirror_mode": {
    "name": "ipython",
    "version": 3
   },
   "file_extension": ".py",
   "mimetype": "text/x-python",
   "name": "python",
   "nbconvert_exporter": "python",
   "pygments_lexer": "ipython3",
   "version": "3.7.6"
  }
 },
 "nbformat": 4,
 "nbformat_minor": 4
}
