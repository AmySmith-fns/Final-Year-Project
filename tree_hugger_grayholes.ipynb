{
 "cells": [
  {
   "cell_type": "code",
   "execution_count": 1,
   "metadata": {},
   "outputs": [
    {
     "name": "stdout",
     "output_type": "stream",
     "text": [
      "Index([' id', ' Time', ' Is_CH', ' who CH', ' Dist_To_CH', ' ADV_S', ' ADV_R',\n",
      "       ' JOIN_S', ' JOIN_R', ' SCH_S', ' SCH_R', 'Rank', ' DATA_S', ' DATA_R',\n",
      "       ' Data_Sent_To_BS', ' dist_CH_To_BS', ' send_code ', 'Consumed Energy',\n",
      "       'Attack type'],\n",
      "      dtype='object')\n",
      "(374661, 12)\n",
      "(374661, 12)\n",
      "(374661, 1)\n",
      "(224796, 12)\n",
      "(149865, 12)\n",
      "(224796, 1)\n",
      "(149865, 1)\n"
     ]
    }
   ],
   "source": [
    "from sklearn.model_selection import train_test_split # Import train_test_split function\n",
    "from sklearn.tree import DecisionTreeClassifier # Import Decision Tree Classifier\n",
    "\n",
    "from sklearn import metrics #Import scikit-learn metrics module for accuracy calculation\n",
    "import pandas as pd\n",
    "from pathlib import Path\n",
    "import numpy as np\n",
    "import csv\n",
    "\n",
    "dir_path= Path('..', 'data')\n",
    "data_path= Path(dir_path,'gh_DS.csv' )\n",
    "data_file= pd.read_csv(data_path)\n",
    "print(data_file.columns)\n",
    "data_file=data_file.drop(columns=[' id', ' who CH' ,' Time', ' Dist_To_CH', 'Rank', ' dist_CH_To_BS', ' send_code '])\n",
    "\n",
    "x= data_file.values\n",
    "print(x.shape)\n",
    "\n",
    "shp= int(x.shape[0])\n",
    "\n",
    "y=np.empty((shp, 1), dtype=str)\n",
    "count=0\n",
    "for a in x:\n",
    "    if a[11] =='Normal':\n",
    "        y[count]='N'\n",
    "    else:\n",
    "        y[count]='A'\n",
    "    count=count+1\n",
    "    \n",
    "print(x.shape )\n",
    "print (y.shape)\n",
    "xtrain, xtest, ytrain, ytest = train_test_split(data_file.values,y,train_size=0.6, stratify= data_file['Attack type'])\n",
    "        \n",
    "print(xtrain.shape)\n",
    "print(xtest.shape)\n",
    "print(ytrain.shape)\n",
    "print(ytest.shape)\n",
    "#print(ytrain)\n",
    "myfile= open('tt_GHbasic.csv', 'w')\n",
    "#print(xtrain)\n",
    "with myfile:\n",
    "    writer= csv.writer(myfile)\n",
    "    writer.writerow(data_file.columns)\n",
    "    writer.writerows(xtrain)\n",
    "    writer.writerows(xtest)\n",
    "\n",
    "ys= open('labels_GHbasic.csv', 'w')\n",
    "with ys:\n",
    "    writer=csv.writer(ys)\n",
    "    writer.writerows(ytrain)\n",
    "    writer.writerows(ytest)"
   ]
  },
  {
   "cell_type": "code",
   "execution_count": 6,
   "metadata": {},
   "outputs": [
    {
     "name": "stdout",
     "output_type": "stream",
     "text": [
      "Index([' Is_CH', ' ADV_S', ' ADV_R', ' JOIN_S', ' JOIN_R', ' SCH_S', ' SCH_R',\n",
      "       ' DATA_S', ' DATA_R', ' Data_Sent_To_BS', 'Consumed Energy'],\n",
      "      dtype='object')\n",
      "(374661, 11)\n",
      "(224796, 11)\n",
      "(149865, 11)\n"
     ]
    }
   ],
   "source": [
    "data_path= Path('tt_GHbasic.csv' )\n",
    "data_file= pd.read_csv(data_path)\n",
    "data_file=data_file.drop(columns=['Attack type'])\n",
    "\n",
    "print(data_file.columns)\n",
    "allx= data_file.values\n",
    "print(allx.shape)\n",
    "xtrain= allx[0:ytrain.shape[0]]\n",
    "xtest= allx[ytrain.shape[0]: ytrain.shape[0]+ytest.shape[0]]\n",
    "print(xtrain.shape)\n",
    "print(xtest.shape)"
   ]
  },
  {
   "cell_type": "code",
   "execution_count": 7,
   "metadata": {},
   "outputs": [
    {
     "name": "stdout",
     "output_type": "stream",
     "text": [
      "Accuracy: 0.9942081206419111\n"
     ]
    }
   ],
   "source": [
    "cls=DecisionTreeClassifier()\n",
    "\n",
    "cls=cls.fit(xtrain,ytrain)\n",
    "\n",
    "y_pred=cls.predict(xtest)\n",
    "print(\"Accuracy:\", metrics.accuracy_score(ytest, y_pred))"
   ]
  },
  {
   "cell_type": "code",
   "execution_count": 8,
   "metadata": {},
   "outputs": [
    {
     "name": "stdout",
     "output_type": "stream",
     "text": [
      "Index([' id', ' Time', ' Is_CH', ' who CH', ' Dist_To_CH', ' ADV_S', ' ADV_R',\n",
      "       ' JOIN_S', ' JOIN_R', ' SCH_S', ' SCH_R', 'Rank', ' DATA_S', ' DATA_R',\n",
      "       ' Data_Sent_To_BS', ' dist_CH_To_BS', ' send_code ', 'Consumed Energy',\n",
      "       'Attack type'],\n",
      "      dtype='object')\n"
     ]
    }
   ],
   "source": [
    "dir_path= Path('..', 'data')\n",
    "data_path= Path(dir_path,'grayhole.csv' )\n",
    "data_file= pd.read_csv(data_path)\n",
    "print(data_file.columns)\n",
    "data_file=data_file.drop(columns=[' id', ' who CH' ,' Time', ' Dist_To_CH', 'Rank', ' dist_CH_To_BS', ' send_code ','Attack type' ])\n",
    "data_dump=data_file.values\n",
    "\n",
    "x_blk=data_dump\n",
    "\n",
    "x_btest= np.concatenate((xtest, data_dump), 0)\n",
    "y_blk=np.empty((data_dump.shape[0], 1), dtype=str)\n",
    "count=0\n",
    "for a in y_blk:\n",
    "    y_blk[count]='A'\n",
    "    count=count+1\n",
    "    \n",
    "y_btest= np.concatenate((ytest, y_blk),0)\n"
   ]
  },
  {
   "cell_type": "code",
   "execution_count": 9,
   "metadata": {},
   "outputs": [],
   "source": [
    "myfile= open('test_wt_grayhole.csv', 'w')\n",
    "#print(xtrain)\n",
    "with myfile:\n",
    "    writer= csv.writer(myfile)\n",
    "    writer.writerow(data_file.columns)\n",
    "    writer.writerows(x_btest)\n",
    "\n",
    "ys= open('labels_wt_grayhole.csv', 'w')\n",
    "with ys:\n",
    "    writer=csv.writer(ys)\n",
    "    writer.writerows(ytrain)\n",
    "    writer.writerows(y_blk)"
   ]
  },
  {
   "cell_type": "code",
   "execution_count": 10,
   "metadata": {},
   "outputs": [
    {
     "name": "stdout",
     "output_type": "stream",
     "text": [
      "Accuracy: 0.09262773547286747\n"
     ]
    }
   ],
   "source": [
    "y_bh_only=cls.predict(x_blk)\n",
    "\n",
    "print(\"Accuracy:\", metrics.accuracy_score(y_blk, y_bh_only))"
   ]
  },
  {
   "cell_type": "code",
   "execution_count": 16,
   "metadata": {},
   "outputs": [
    {
     "name": "stdout",
     "output_type": "stream",
     "text": [
      "467\n"
     ]
    },
    {
     "data": {
      "image/png": "[encoded data removed]",
      "text/plain": [
       "<Figure size 432x288 with 1 Axes>"
      ]
     },
     "metadata": {
      "needs_background": "light"
     },
     "output_type": "display_data"
    }
   ],
   "source": [
    "from sklearn.tree import plot_tree\n",
    "import matplotlib.pyplot as plt\n",
    "clf = DecisionTreeClassifier(random_state=0)\n",
    "path = clf.cost_complexity_pruning_path(xtrain, ytrain)\n",
    "ccp_alphas, impurities = path.ccp_alphas, path.impurities\n",
    "\n",
    "\n",
    "clfs=[]\n",
    "print(ccp_alphas.size)\n",
    "#print(ccp_alphas)\n",
    "a_section= ccp_alphas[400:]\n",
    "for ccp_alpha in a_section:\n",
    "    clf = DecisionTreeClassifier(random_state=0, ccp_alpha=ccp_alpha)\n",
    "    clf.fit(xtrain, ytrain)\n",
    "    clfs.append(clf)\n",
    "    \n",
    "clfs = clfs[:-1]\n",
    "a_section = a_section[:-1]\n",
    "\n",
    "\n",
    "train_scores = [clf.score(xtrain, ytrain) for clf in clfs]\n",
    "test_scores = [clf.score(xtest, ytest) for clf in clfs]\n",
    "\n",
    "fig, ax = plt.subplots()\n",
    "ax.set_xlabel(\"alpha\")\n",
    "ax.set_ylabel(\"accuracy\")\n",
    "ax.set_title(\"Accuracy vs alpha for training and testing sets\")\n",
    "ax.plot(a_section, train_scores, marker='o', label=\"train\",\n",
    "        drawstyle=\"steps-post\")\n",
    "ax.plot(a_section, test_scores, marker='o', label=\"test\",\n",
    "        drawstyle=\"steps-post\")\n",
    "ax.legend()\n",
    "plt.show()\n"
   ]
  },
  {
   "cell_type": "code",
   "execution_count": 15,
   "metadata": {},
   "outputs": [
    {
     "data": {
      "image/png": "[encoded data removed]",
      "text/plain": [
       "<Figure size 432x288 with 1 Axes>"
      ]
     },
     "metadata": {
      "needs_background": "light"
     },
     "output_type": "display_data"
    }
   ],
   "source": [
    "test_scores = [clf.score(x_blk, y_blk) for clf in clfs]\n",
    "\n",
    "fig, ax = plt.subplots()\n",
    "ax.set_xlabel(\"alpha\")\n",
    "ax.set_ylabel(\"accuracy\")\n",
    "ax.set_title(\"Accuracy vs alpha for training and testing sets\")\n",
    "ax.plot(a_section, train_scores, marker='o', label=\"train\",\n",
    "        drawstyle=\"steps-post\")\n",
    "ax.plot(a_section, test_scores, marker='o', label=\"test\",\n",
    "        drawstyle=\"steps-post\")\n",
    "ax.legend()\n",
    "plt.show()"
   ]
  },
  {
   "cell_type": "code",
   "execution_count": 17,
   "metadata": {},
   "outputs": [
    {
     "name": "stdout",
     "output_type": "stream",
     "text": [
      "Accuracy: 0.9740232876255296\n",
      "              precision    recall  f1-score   support\n",
      "\n",
      "           A       0.79      0.99      0.88     13838\n",
      "           N       1.00      0.97      0.99    136027\n",
      "\n",
      "    accuracy                           0.97    149865\n",
      "   macro avg       0.89      0.98      0.93    149865\n",
      "weighted avg       0.98      0.97      0.98    149865\n",
      "\n"
     ]
    }
   ],
   "source": [
    "KO= clfs[-1]\n",
    "\n",
    "y_pred=KO.predict(xtest)\n",
    "print(\"Accuracy:\", metrics.accuracy_score(ytest, y_pred))\n",
    "print(metrics.classification_report(ytest, y_pred))"
   ]
  },
  {
   "cell_type": "code",
   "execution_count": null,
   "metadata": {},
   "outputs": [],
   "source": []
  }
 ],
 "metadata": {
  "kernelspec": {
   "display_name": "Python 3",
   "language": "python",
   "name": "python3"
  },
  "language_info": {
   "codemirror_mode": {
    "name": "ipython",
    "version": 3
   },
   "file_extension": ".py",
   "mimetype": "text/x-python",
   "name": "python",
   "nbconvert_exporter": "python",
   "pygments_lexer": "ipython3",
   "version": "3.7.6"
  }
 },
 "nbformat": 4,
 "nbformat_minor": 4
}
