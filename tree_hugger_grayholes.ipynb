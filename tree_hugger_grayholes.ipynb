{
 "cells": [
  {
   "cell_type": "code",
   "execution_count": 17,
   "metadata": {},
   "outputs": [
    {
     "name": "stdout",
     "output_type": "stream",
     "text": [
      "Index([' id', ' Time', ' Is_CH', ' who CH', ' Dist_To_CH', ' ADV_S', ' ADV_R',\n",
      "       ' JOIN_S', ' JOIN_R', ' SCH_S', ' SCH_R', 'Rank', ' DATA_S', ' DATA_R',\n",
      "       ' Data_Sent_To_BS', ' dist_CH_To_BS', ' send_code ', 'Consumed Energy',\n",
      "       'Attack type'],\n",
      "      dtype='object')\n",
      "(360065, 12)\n",
      "(360065, 12)\n",
      "(360065, 1)\n",
      "(216039, 12)\n",
      "(144026, 12)\n",
      "(216039, 1)\n",
      "(144026, 1)\n"
     ]
    }
   ],
   "source": [
    "from sklearn.model_selection import train_test_split # Import train_test_split function\n",
    "from sklearn.tree import DecisionTreeClassifier # Import Decision Tree Classifier\n",
    "\n",
    "from sklearn import metrics #Import scikit-learn metrics module for accuracy calculation\n",
    "import pandas as pd\n",
    "from pathlib import Path\n",
    "import numpy as np\n",
    "import csv\n",
    "\n",
    "dir_path= Path('..', 'data')\n",
    "data_path= Path(dir_path,'gh_DS.csv' )\n",
    "data_file= pd.read_csv(data_path)\n",
    "print(data_file.columns)\n",
    "data_file=data_file.drop(columns=[' id', ' who CH' ,' Time', ' Dist_To_CH', 'Rank', ' dist_CH_To_BS', ' send_code '])\n",
    "\n",
    "x= data_file.values\n",
    "print(x.shape)\n",
    "\n",
    "shp= int(x.shape[0])\n",
    "\n",
    "y=np.empty((shp, 1), dtype=str)\n",
    "count=0\n",
    "for a in x:\n",
    "    if a[11] =='Normal':\n",
    "        y[count]='N'\n",
    "    else:\n",
    "        y[count]='A'\n",
    "    count=count+1\n",
    "    \n",
    "print(x.shape )\n",
    "print (y.shape)\n",
    "xtrain, xtest, ytrain, ytest = train_test_split(data_file.values,y,train_size=0.6, stratify= data_file['Attack type'])\n",
    "        \n",
    "print(xtrain.shape)\n",
    "print(xtest.shape)\n",
    "print(ytrain.shape)\n",
    "print(ytest.shape)\n",
    "#print(ytrain)\n",
    "myfile= open('tt_GHbasic.csv', 'w')\n",
    "#print(xtrain)\n",
    "with myfile:\n",
    "    writer= csv.writer(myfile)\n",
    "    writer.writerow(data_file.columns)\n",
    "    writer.writerows(xtrain)\n",
    "    writer.writerows(xtest)\n",
    "\n",
    "ys= open('labels_GHbasic.csv', 'w')\n",
    "with ys:\n",
    "    writer=csv.writer(ys)\n",
    "    writer.writerows(ytrain)\n",
    "    writer.writerows(ytest)"
   ]
  },
  {
   "cell_type": "code",
   "execution_count": 18,
   "metadata": {},
   "outputs": [
    {
     "name": "stdout",
     "output_type": "stream",
     "text": [
      "Index([' Is_CH', ' ADV_S', ' ADV_R', ' JOIN_S', ' JOIN_R', ' SCH_S', ' SCH_R',\n",
      "       ' DATA_S', ' DATA_R', ' Data_Sent_To_BS', 'Consumed Energy'],\n",
      "      dtype='object')\n",
      "(360065, 11)\n",
      "(216039, 11)\n",
      "(144026, 11)\n"
     ]
    }
   ],
   "source": [
    "data_path= Path('tt_GHbasic.csv' )\n",
    "data_file= pd.read_csv(data_path)\n",
    "data_file=data_file.drop(columns=['Attack type'])\n",
    "\n",
    "print(data_file.columns)\n",
    "allx= data_file.values\n",
    "print(allx.shape)\n",
    "xtrain= allx[0:ytrain.shape[0]]\n",
    "xtest= allx[ytrain.shape[0]: ytrain.shape[0]+ytest.shape[0]]\n",
    "print(xtrain.shape)\n",
    "print(xtest.shape)"
   ]
  },
  {
   "cell_type": "code",
   "execution_count": 19,
   "metadata": {},
   "outputs": [
    {
     "name": "stdout",
     "output_type": "stream",
     "text": [
      "Accuracy: 0.9956327329787678\n",
      "[  7706    294    335 135691]\n",
      "              precision    recall  f1-score   support\n",
      "\n",
      "           A       0.96      0.96      0.96      8000\n",
      "           N       1.00      1.00      1.00    136026\n",
      "\n",
      "    accuracy                           1.00    144026\n",
      "   macro avg       0.98      0.98      0.98    144026\n",
      "weighted avg       1.00      1.00      1.00    144026\n",
      "\n"
     ]
    }
   ],
   "source": [
    "cls=DecisionTreeClassifier()\n",
    "\n",
    "cls=cls.fit(xtrain,ytrain)\n",
    "\n",
    "y_pred=cls.predict(xtest)\n",
    "print(\"Accuracy:\", metrics.accuracy_score(ytest, y_pred))\n",
    "print(metrics.confusion_matrix(ytest, y_pred).ravel())\n",
    "#tn, fp, fn, tp \n",
    "print(metrics.classification_report(ytest, y_pred))"
   ]
  },
  {
   "cell_type": "code",
   "execution_count": 24,
   "metadata": {},
   "outputs": [
    {
     "name": "stdout",
     "output_type": "stream",
     "text": [
      "Index([' id', ' Time', ' Is_CH', ' who CH', ' Dist_To_CH', ' ADV_S', ' ADV_R',\n",
      "       ' JOIN_S', ' JOIN_R', ' SCH_S', ' SCH_R', 'Rank', ' DATA_S', ' DATA_R',\n",
      "       ' Data_Sent_To_BS', ' dist_CH_To_BS', ' send_code ', 'Consumed Energy',\n",
      "       'Attack type'],\n",
      "      dtype='object')\n",
      "(14596, 11)\n"
     ]
    }
   ],
   "source": [
    "dir_path= Path('..', 'data')\n",
    "data_path= Path(dir_path,'grayhole1.csv' )\n",
    "data_file= pd.read_csv(data_path)\n",
    "print(data_file.columns)\n",
    "data_file=data_file.drop(columns=[' id', ' who CH' ,' Time', ' Dist_To_CH', 'Rank', ' dist_CH_To_BS', ' send_code ','Attack type' ])\n",
    "data_dump=data_file.values\n",
    "\n",
    "x_blk=data_dump\n",
    "\n",
    "x_btest= np.concatenate((xtest, data_dump), 0)\n",
    "y_blk=np.empty((data_dump.shape[0], 1), dtype=str)\n",
    "count=0\n",
    "for a in y_blk:\n",
    "    y_blk[count]='A'\n",
    "    count=count+1\n",
    "    \n",
    "y_btest= np.concatenate((ytest, y_blk),0)\n",
    "\n",
    "print(x_blk.shape)"
   ]
  },
  {
   "cell_type": "code",
   "execution_count": 25,
   "metadata": {},
   "outputs": [],
   "source": [
    "myfile= open('test_wt_grayhole.csv', 'w')\n",
    "#print(xtrain)\n",
    "with myfile:\n",
    "    writer= csv.writer(myfile)\n",
    "    writer.writerow(data_file.columns)\n",
    "    writer.writerows(x_btest)\n",
    "\n",
    "ys= open('labels_wt_grayhole.csv', 'w')\n",
    "with ys:\n",
    "    writer=csv.writer(ys)\n",
    "    writer.writerows(ytrain)\n",
    "    writer.writerows(y_blk)"
   ]
  },
  {
   "cell_type": "code",
   "execution_count": 26,
   "metadata": {},
   "outputs": [
    {
     "name": "stdout",
     "output_type": "stream",
     "text": [
      "Accuracy: 0.3696903261167443\n",
      "[5396 9200    0    0]\n",
      "              precision    recall  f1-score   support\n",
      "\n",
      "           A       1.00      0.37      0.54     14596\n",
      "           N       0.00      0.00      0.00         0\n",
      "\n",
      "    accuracy                           0.37     14596\n",
      "   macro avg       0.50      0.18      0.27     14596\n",
      "weighted avg       1.00      0.37      0.54     14596\n",
      "\n"
     ]
    },
    {
     "name": "stderr",
     "output_type": "stream",
     "text": [
      "C:\\Users\\Amy\\miniconda3\\lib\\site-packages\\sklearn\\metrics\\_classification.py:1221: UndefinedMetricWarning: Recall and F-score are ill-defined and being set to 0.0 in labels with no true samples. Use `zero_division` parameter to control this behavior.\n",
      "  _warn_prf(average, modifier, msg_start, len(result))\n"
     ]
    }
   ],
   "source": [
    "y_bh_only=cls.predict(x_blk)\n",
    "\n",
    "print(\"Accuracy:\", metrics.accuracy_score(y_blk, y_bh_only))\n",
    "print(metrics.confusion_matrix(y_blk, y_bh_only).ravel())\n",
    "#tn, fp, fn, tp \n",
    "print(metrics.classification_report(y_blk, y_bh_only))"
   ]
  },
  {
   "cell_type": "code",
   "execution_count": 35,
   "metadata": {},
   "outputs": [
    {
     "name": "stdout",
     "output_type": "stream",
     "text": [
      "300\n"
     ]
    },
    {
     "data": {
      "image/png": "[encoded data removed]",
      "text/plain": [
       "<Figure size 432x288 with 1 Axes>"
      ]
     },
     "metadata": {
      "needs_background": "light"
     },
     "output_type": "display_data"
    }
   ],
   "source": [
    "from sklearn.tree import plot_tree\n",
    "import matplotlib.pyplot as plt\n",
    "clf = DecisionTreeClassifier(random_state=0)\n",
    "path = clf.cost_complexity_pruning_path(xtrain, ytrain)\n",
    "ccp_alphas, impurities = path.ccp_alphas, path.impurities\n",
    "\n",
    "\n",
    "clfs=[]\n",
    "print(ccp_alphas.size)\n",
    "#print(ccp_alphas)\n",
    "a_section= ccp_alphas[250:300]\n",
    "for ccp_alpha in a_section:\n",
    "    clf = DecisionTreeClassifier(random_state=0, ccp_alpha=ccp_alpha)\n",
    "    clf.fit(xtrain, ytrain)\n",
    "    clfs.append(clf)\n",
    "    \n",
    "clfs = clfs[:-1]\n",
    "a_section = a_section[:-1]\n",
    "\n",
    "\n",
    "train_scores = [clf.score(xtrain, ytrain) for clf in clfs]\n",
    "test_scores = [clf.score(xtest, ytest) for clf in clfs]\n",
    "\n",
    "fig, ax = plt.subplots()\n",
    "ax.set_xlabel(\"alpha\")\n",
    "ax.set_ylabel(\"accuracy\")\n",
    "ax.set_title(\"Accuracy vs alpha for training and testing sets\")\n",
    "ax.plot(a_section, train_scores, marker='o', label=\"train\",\n",
    "        drawstyle=\"steps-post\")\n",
    "ax.plot(a_section, test_scores, marker='o', label=\"test\",\n",
    "        drawstyle=\"steps-post\")\n",
    "ax.legend()\n",
    "plt.show()\n"
   ]
  },
  {
   "cell_type": "code",
   "execution_count": 36,
   "metadata": {},
   "outputs": [
    {
     "data": {
      "image/png": "[encoded data removed]",
      "text/plain": [
       "<Figure size 432x288 with 1 Axes>"
      ]
     },
     "metadata": {
      "needs_background": "light"
     },
     "output_type": "display_data"
    }
   ],
   "source": [
    "test_scores = [clf.score(x_blk, y_blk) for clf in clfs]\n",
    "\n",
    "fig, ax = plt.subplots()\n",
    "ax.set_xlabel(\"alpha\")\n",
    "ax.set_ylabel(\"accuracy\")\n",
    "ax.set_title(\"Accuracy vs alpha for training and testing sets\")\n",
    "ax.plot(a_section, train_scores, marker='o', label=\"train\",\n",
    "        drawstyle=\"steps-post\")\n",
    "ax.plot(a_section, test_scores, marker='o', label=\"test\",\n",
    "        drawstyle=\"steps-post\")\n",
    "ax.legend()\n",
    "plt.show()"
   ]
  },
  {
   "cell_type": "code",
   "execution_count": 37,
   "metadata": {},
   "outputs": [
    {
     "name": "stdout",
     "output_type": "stream",
     "text": [
      "Accuracy: 0.975886068767258\n",
      "              precision    recall  f1-score   support\n",
      "\n",
      "           A       0.86      0.99      0.92     22596\n",
      "           N       1.00      0.97      0.99    136026\n",
      "\n",
      "    accuracy                           0.98    158622\n",
      "   macro avg       0.93      0.98      0.95    158622\n",
      "weighted avg       0.98      0.98      0.98    158622\n",
      "\n",
      "[ 22440    156   3669 132357]\n"
     ]
    }
   ],
   "source": [
    "KO= clfs[-1]\n",
    "\n",
    "y_pred=KO.predict(x_btest)\n",
    "print(\"Accuracy:\", metrics.accuracy_score(y_btest, y_pred))\n",
    "print(metrics.classification_report(y_btest, y_pred))\n",
    "\n",
    "print(metrics.confusion_matrix(y_btest, y_pred).ravel())\n",
    "#tn, fp, fn, tp      "
   ]
  },
  {
   "cell_type": "code",
   "execution_count": 39,
   "metadata": {},
   "outputs": [
    {
     "name": "stdout",
     "output_type": "stream",
     "text": [
      "Accuracy: 1.0\n",
      "              precision    recall  f1-score   support\n",
      "\n",
      "           A       1.00      1.00      1.00     14596\n",
      "\n",
      "    accuracy                           1.00     14596\n",
      "   macro avg       1.00      1.00      1.00     14596\n",
      "weighted avg       1.00      1.00      1.00     14596\n",
      "\n",
      "[14596]\n"
     ]
    }
   ],
   "source": [
    "y_pred=KO.predict(x_blk)\n",
    "print(\"Accuracy:\", metrics.accuracy_score(y_blk, y_pred))\n",
    "print(metrics.classification_report(y_blk, y_pred))\n",
    "\n",
    "print(metrics.confusion_matrix(y_blk, y_pred).ravel())\n",
    "#tn, fp, fn, tp      "
   ]
  },
  {
   "cell_type": "code",
   "execution_count": 17,
   "metadata": {},
   "outputs": [
    {
     "name": "stdout",
     "output_type": "stream",
     "text": [
      "[ 43373 331288      0      0]\n"
     ]
    }
   ],
   "source": [
    "\n",
    "print(metrics.confusion_matrix(y_blk, y_pred).ravel())\n",
    "#tn, fp, fn, tp      "
   ]
  },
  {
   "cell_type": "code",
   "execution_count": null,
   "metadata": {},
   "outputs": [],
   "source": []
  }
 ],
 "metadata": {
  "kernelspec": {
   "display_name": "Python 3",
   "language": "python",
   "name": "python3"
  },
  "language_info": {
   "codemirror_mode": {
    "name": "ipython",
    "version": 3
   },
   "file_extension": ".py",
   "mimetype": "text/x-python",
   "name": "python",
   "nbconvert_exporter": "python",
   "pygments_lexer": "ipython3",
   "version": "3.7.6"
  }
 },
 "nbformat": 4,
 "nbformat_minor": 4
}
